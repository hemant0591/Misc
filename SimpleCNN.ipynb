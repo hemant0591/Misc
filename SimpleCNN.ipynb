{
  "nbformat": 4,
  "nbformat_minor": 0,
  "metadata": {
    "colab": {
      "provenance": []
    },
    "kernelspec": {
      "name": "python3",
      "display_name": "Python 3"
    },
    "language_info": {
      "name": "python"
    }
  },
  "cells": [
    {
      "cell_type": "code",
      "execution_count": 1,
      "metadata": {
        "id": "t09x6_y3LzRy"
      },
      "outputs": [],
      "source": [
        "import torch\n",
        "from torch import tensor, nn, optim"
      ]
    },
    {
      "cell_type": "code",
      "source": [
        "device = 'cuda' if torch.cuda.is_available() else 'cpu'\n",
        "#device"
      ],
      "metadata": {
        "colab": {
          "base_uri": "https://localhost:8080/",
          "height": 35
        },
        "id": "K71DLPl7N7yG",
        "outputId": "2751d270-8ede-459e-ba00-c4f243875126"
      },
      "execution_count": 3,
      "outputs": [
        {
          "output_type": "execute_result",
          "data": {
            "text/plain": [
              "'cpu'"
            ],
            "application/vnd.google.colaboratory.intrinsic+json": {
              "type": "string"
            }
          },
          "metadata": {},
          "execution_count": 3
        }
      ]
    },
    {
      "cell_type": "code",
      "source": [
        "def conv(ni, nf, ks=3, stride=2, act=nn.ReLU, norm=None, bias=None):\n",
        "  if bias is not None: bias = not isinstance(bias, (nn.BatchNorm1d, nn.BatchNorm2d, nn.BatchNorm3d))\n",
        "  layers = [nn.Conv2d(ni, nf, kernel_size=ks, stride=stride, padding=ks//2, bias=bias)]\n",
        "  if norm: layers.append(norm(nf))\n",
        "  if act: layers.append(act())\n",
        "  return nn.Sequential(*layers)"
      ],
      "metadata": {
        "id": "DFCGLSkVM4MD"
      },
      "execution_count": 2,
      "outputs": []
    },
    {
      "cell_type": "code",
      "source": [
        "def get_model(act=nn.ReLU, nfs=None, norm=None):\n",
        "  if nfs is None: nfs = [1,8,16,32,64]\n",
        "  layers = [conv(nfs[i], nfs[i+1], act=act, norm=norm) for i in range(len(nfs)-1)]\n",
        "  return nn.Sequential(*layers, conv(nfs[-1],10, act=None, norm=False, bias=True),\n",
        "                       nn.AdaptiveAvgPool2d((1, 1)), nn.Flatten()).to(device)"
      ],
      "metadata": {
        "id": "JiX4l9TgN0UQ"
      },
      "execution_count": 10,
      "outputs": []
    },
    {
      "cell_type": "code",
      "source": [
        "x = torch.randn(1, 1, 28, 28)\n",
        "model = get_model(norm=nn.BatchNorm2d)\n",
        "for i, layer in enumerate(model):\n",
        "    x = layer(x)\n",
        "    print(f\"After layer {i}: {x.shape}\")"
      ],
      "metadata": {
        "colab": {
          "base_uri": "https://localhost:8080/"
        },
        "id": "TTv80E9hOUVo",
        "outputId": "a5829dfb-2672-4896-9779-50f14604ad76"
      },
      "execution_count": 11,
      "outputs": [
        {
          "output_type": "stream",
          "name": "stdout",
          "text": [
            "After layer 0: torch.Size([1, 8, 14, 14])\n",
            "After layer 1: torch.Size([1, 16, 7, 7])\n",
            "After layer 2: torch.Size([1, 32, 4, 4])\n",
            "After layer 3: torch.Size([1, 64, 2, 2])\n",
            "After layer 4: torch.Size([1, 10, 1, 1])\n",
            "After layer 5: torch.Size([1, 10, 1, 1])\n",
            "After layer 6: torch.Size([1, 10])\n"
          ]
        }
      ]
    },
    {
      "cell_type": "code",
      "source": [
        "x = torch.randn(1, 1, 32, 32)\n",
        "model = get_model(norm=nn.BatchNorm2d)\n",
        "for i, layer in enumerate(model):\n",
        "    x = layer(x)\n",
        "    print(f\"After layer {i}: {x.shape}\")"
      ],
      "metadata": {
        "colab": {
          "base_uri": "https://localhost:8080/"
        },
        "id": "nI1nwq0oOe5g",
        "outputId": "7948cbf1-ec31-48b8-d69b-722c3c432618"
      },
      "execution_count": 12,
      "outputs": [
        {
          "output_type": "stream",
          "name": "stdout",
          "text": [
            "After layer 0: torch.Size([1, 8, 16, 16])\n",
            "After layer 1: torch.Size([1, 16, 8, 8])\n",
            "After layer 2: torch.Size([1, 32, 4, 4])\n",
            "After layer 3: torch.Size([1, 64, 2, 2])\n",
            "After layer 4: torch.Size([1, 10, 1, 1])\n",
            "After layer 5: torch.Size([1, 10, 1, 1])\n",
            "After layer 6: torch.Size([1, 10])\n"
          ]
        }
      ]
    },
    {
      "cell_type": "code",
      "source": [
        "x = torch.randn(1, 1, 64, 64)\n",
        "model = get_model(norm=nn.BatchNorm2d)\n",
        "for i, layer in enumerate(model):\n",
        "    x = layer(x)\n",
        "    print(f\"After layer {i}: {x.shape}\")"
      ],
      "metadata": {
        "colab": {
          "base_uri": "https://localhost:8080/"
        },
        "id": "9KUBJJdmOmx4",
        "outputId": "a806b05f-5a0d-4ef9-d4bc-89b758e9b2a7"
      },
      "execution_count": 13,
      "outputs": [
        {
          "output_type": "stream",
          "name": "stdout",
          "text": [
            "After layer 0: torch.Size([1, 8, 32, 32])\n",
            "After layer 1: torch.Size([1, 16, 16, 16])\n",
            "After layer 2: torch.Size([1, 32, 8, 8])\n",
            "After layer 3: torch.Size([1, 64, 4, 4])\n",
            "After layer 4: torch.Size([1, 10, 2, 2])\n",
            "After layer 5: torch.Size([1, 10, 1, 1])\n",
            "After layer 6: torch.Size([1, 10])\n"
          ]
        }
      ]
    },
    {
      "cell_type": "code",
      "source": [],
      "metadata": {
        "id": "9TpeCBk_OxRr"
      },
      "execution_count": null,
      "outputs": []
    }
  ]
}