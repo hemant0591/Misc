{
  "nbformat": 4,
  "nbformat_minor": 0,
  "metadata": {
    "colab": {
      "provenance": []
    },
    "kernelspec": {
      "name": "python3",
      "display_name": "Python 3"
    },
    "language_info": {
      "name": "python"
    }
  },
  "cells": [
    {
      "cell_type": "code",
      "execution_count": 1,
      "metadata": {
        "id": "LJ07MgS1QiZ8"
      },
      "outputs": [],
      "source": [
        "import torch\n",
        "from torch import tensor, nn, optim"
      ]
    },
    {
      "cell_type": "markdown",
      "source": [
        "### LayerNorm"
      ],
      "metadata": {
        "id": "RQk4uZagQteQ"
      }
    },
    {
      "cell_type": "code",
      "source": [
        "class LayerNorm(nn.Module):\n",
        "  def __init__(self, eps=1e-5):\n",
        "    super().__init__()\n",
        "    self.eps = eps\n",
        "    self.mult = nn.parameter(tensor(1.))\n",
        "    self.add = nn.parameter(tensor(0.))\n",
        "\n",
        "  def forward(self, x):\n",
        "    m = x.mean((1,2,3), keepdim=True) #taking mean over CHW dimensions\n",
        "    v = x.var((1,2,3), keepdim=True)\n",
        "    x = (x - m)/((v + self.eps).sqrt())\n",
        "    return self.x+self.mult + self.add"
      ],
      "metadata": {
        "id": "xsVSHTm7QvtT"
      },
      "execution_count": 4,
      "outputs": []
    },
    {
      "cell_type": "code",
      "source": [
        "class BatchNorm(nn.Module):\n",
        "  def __init__(self, nf, mom=0.1, eps=1e-5):\n",
        "    super().__init__()\n",
        "    self.mom = mom\n",
        "    self.eps = eps\n",
        "    self.mult = nn.parameter(tensor(1.))\n",
        "    self.add = nn.parameter(tensor(0.))\n",
        "    self.register_buffer('vars',  torch.ones(1,nf,1,1))\n",
        "    self.register_buffer('means', torch.zeros(1,nf,1,1))\n",
        "\n",
        "  def update_stats(self, x):\n",
        "    m = x.mean((0,2,3), keepdim=True) #taking mean over NHW dimensions\n",
        "    v = x.var((0,2,3), keepdim=True)\n",
        "    self.means.lerp_(m, self.mom)\n",
        "    self.vars.lerp_(v, self.mom)\n",
        "    return m, v\n",
        "\n",
        "  def forward(self, x):\n",
        "    if self.training:\n",
        "        with torch.no_grad(): m,v = self.update_stats(x)\n",
        "    else: m,v = self.means,self.vars\n",
        "    x = (x-m) / (v+self.eps).sqrt()\n",
        "    return x*self.mults + self.adds"
      ],
      "metadata": {
        "id": "rAxuJnJnRiZP"
      },
      "execution_count": 5,
      "outputs": []
    },
    {
      "cell_type": "code",
      "source": [],
      "metadata": {
        "id": "J9WeNffPScDf"
      },
      "execution_count": null,
      "outputs": []
    }
  ]
}