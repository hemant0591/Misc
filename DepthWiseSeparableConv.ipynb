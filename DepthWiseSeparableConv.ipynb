{
  "nbformat": 4,
  "nbformat_minor": 0,
  "metadata": {
    "colab": {
      "provenance": []
    },
    "kernelspec": {
      "name": "python3",
      "display_name": "Python 3"
    },
    "language_info": {
      "name": "python"
    }
  },
  "cells": [
    {
      "cell_type": "markdown",
      "source": [
        "1. In a normal convolutional layer (say, Conv2d in PyTorch):\n",
        "\t•\tYou have an input with:\n",
        "\t•\tM input channels (e.g., RGB = 3)\n",
        "\t•\tEach filter produces 1 output channel\n",
        "\t•\tTo produce N output channels, you learn N full 3D filters\n",
        "→ each of size (M × K × K)\n",
        "\n",
        "So total parameters =\n",
        "\n",
        "Params_standard = N x M x K x K\n",
        "\n",
        "Each output pixel is a sum over all input channels — lots of computation.\n",
        "\n",
        "2. What a Depthwise Separable Convolution Does\n",
        "\n",
        "It splits a regular convolution into two simpler steps:\n",
        "\t1.\tDepthwise Convolution\n",
        "→ One filter per input channel (not across all channels)\n",
        "→ Each filter only looks at its own channel.\n",
        "\t2.\tPointwise Convolution (1×1 Conv)\n",
        "→ Combines the results of all channels linearly using 1×1 filters.\n",
        "\n",
        "So instead of one large convolution mixing space + channels at once,\n",
        "we separate spatial filtering and channel mixing.\n",
        "\n",
        "3. Step-by-Step Example\n",
        "\n",
        "Let’s say:\n",
        "Input shape = (H, W, 32)  (32 channels)\n",
        "\n",
        "Kernel size = 3×3\n",
        "\n",
        "Output channels = 64\n",
        "\n",
        "Standard Conv:\n",
        "\n",
        "Each of 64 filters has shape (3×3×32)\n",
        "\n",
        "Parameters = 64 × 32 × 3 × 3 = 18,432\n",
        "\n",
        "Depthwise Separable Conv:\n",
        "\n",
        "(a) Depthwise step:\n",
        "\n",
        "One 3×3 filter per channel → (3×3×32)\n",
        "\n",
        "Parameters = 32 × 3 × 3 = 288\n",
        "\n",
        "(b) Pointwise step (1×1 Conv):\n",
        "\n",
        "64 filters of shape (1×1×32)\n",
        "\n",
        "Parameters = 64 × 32 × 1 × 1 = 2,048\n",
        "\n",
        "Total = 288 + 2,048 = 2,336 parameters\n",
        "\n",
        "That’s almost 8× fewer parameters than a standard conv!"
      ],
      "metadata": {
        "id": "XMFt7IiyH4SY"
      }
    },
    {
      "cell_type": "code",
      "source": [
        "import torch\n",
        "from torch import nn"
      ],
      "metadata": {
        "id": "otApj7qPH5C3"
      },
      "execution_count": 1,
      "outputs": []
    },
    {
      "cell_type": "code",
      "source": [
        "class DepthWiseSeparableConv(nn.Module):\n",
        "  def __init__(self, n_in, n_out, kernel_size=3, stride=1, padding=1):\n",
        "    super().__init__()\n",
        "\n",
        "    self.depthwise = nn.Conv2d(n_in, n_in, kernel_size, stride=stride, padding=padding, groups=n_in, bias=False)\n",
        "    self.pointwise = nn.Conv2d(n_in, n_out, kernel_size=1, bias=False)\n",
        "    self.bn = nn.BatchNorm2d(n_out)\n",
        "    self.relu = nn.ReLU()\n",
        "\n",
        "  def forward(self, x):\n",
        "    x = self.depthwise(x)\n",
        "    x = self.pointwise(x)\n",
        "    x = self.bn(x)\n",
        "    x = self.relu(x)\n",
        "    return x"
      ],
      "metadata": {
        "id": "7_QMT23VIuLA"
      },
      "execution_count": 14,
      "outputs": []
    },
    {
      "cell_type": "code",
      "source": [
        "x = torch.randn(1, 32, 64, 64)\n",
        "model = DepthWiseSeparableConv(32, 64)\n",
        "y = model(x)\n",
        "print(y.shape)"
      ],
      "metadata": {
        "colab": {
          "base_uri": "https://localhost:8080/"
        },
        "id": "Sxp7j7LOKCZx",
        "outputId": "6e9882c7-a86d-4a4c-c891-aec90c8388ee"
      },
      "execution_count": 15,
      "outputs": [
        {
          "output_type": "stream",
          "name": "stdout",
          "text": [
            "torch.Size([1, 64, 64, 64])\n"
          ]
        }
      ]
    },
    {
      "cell_type": "code",
      "source": [
        "# number of parameters in Depthwise separable CNN\n",
        "sum(p.numel() for p in model.parameters())"
      ],
      "metadata": {
        "colab": {
          "base_uri": "https://localhost:8080/"
        },
        "id": "4X8Yaq8rKOUy",
        "outputId": "70b8dcfd-cec4-4c58-bee0-5546f3614874"
      },
      "execution_count": 16,
      "outputs": [
        {
          "output_type": "execute_result",
          "data": {
            "text/plain": [
              "2464"
            ]
          },
          "metadata": {},
          "execution_count": 16
        }
      ]
    },
    {
      "cell_type": "code",
      "source": [
        "class ClassicCNN(nn.Module):\n",
        "  def __init__(self, n_in, n_out, kernel_size=3, stride=1, padding=1):\n",
        "    super().__init__()\n",
        "    self.layer = nn.Conv2d(n_in, n_out, kernel_size=kernel_size, bias=False)\n",
        "    self.bn = nn.BatchNorm2d(n_out)\n",
        "    self.relu = nn.ReLU()\n",
        "\n",
        "  def forward(self, x):\n",
        "    x = self.layer(x)\n",
        "    x = self.bn(x)\n",
        "    x = self.relu(x)\n",
        "    return x"
      ],
      "metadata": {
        "id": "SEKKhL9tKR1W"
      },
      "execution_count": 17,
      "outputs": []
    },
    {
      "cell_type": "code",
      "source": [
        "x = torch.randn(1, 32, 64, 64)\n",
        "model = ClassicCNN(32, 64)\n",
        "y = model(x)\n",
        "print(y.shape)"
      ],
      "metadata": {
        "colab": {
          "base_uri": "https://localhost:8080/"
        },
        "id": "-lerDR8cKyTH",
        "outputId": "d837f969-3924-45c2-fcc1-a6a63bd42201"
      },
      "execution_count": 18,
      "outputs": [
        {
          "output_type": "stream",
          "name": "stdout",
          "text": [
            "torch.Size([1, 64, 62, 62])\n"
          ]
        }
      ]
    },
    {
      "cell_type": "code",
      "source": [
        "# number of parameters in Classi CNN\n",
        "sum(p.numel() for p in model.parameters())"
      ],
      "metadata": {
        "colab": {
          "base_uri": "https://localhost:8080/"
        },
        "id": "ejposJ2dK2ON",
        "outputId": "b73eb79d-04cc-4f37-e018-13ac0abcd0f5"
      },
      "execution_count": 19,
      "outputs": [
        {
          "output_type": "execute_result",
          "data": {
            "text/plain": [
              "18560"
            ]
          },
          "metadata": {},
          "execution_count": 19
        }
      ]
    },
    {
      "cell_type": "code",
      "source": [],
      "metadata": {
        "id": "-_kpXfvoK79G"
      },
      "execution_count": null,
      "outputs": []
    }
  ]
}