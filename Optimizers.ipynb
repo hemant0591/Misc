{
  "nbformat": 4,
  "nbformat_minor": 0,
  "metadata": {
    "colab": {
      "provenance": []
    },
    "kernelspec": {
      "name": "python3",
      "display_name": "Python 3"
    },
    "language_info": {
      "name": "python"
    }
  },
  "cells": [
    {
      "cell_type": "code",
      "execution_count": 2,
      "metadata": {
        "id": "5l1XzKb2ti8-"
      },
      "outputs": [],
      "source": [
        "import torch\n",
        "from torch import nn, optim"
      ]
    },
    {
      "cell_type": "code",
      "source": [
        "class SGD(nn.Module):\n",
        "  def __init__(self, params, lr, wd=0.1):\n",
        "    super().__init__()\n",
        "    self.params = list(params)\n",
        "    self.lr, self.wd = lr, wd\n",
        "\n",
        "  def step(self):\n",
        "    with torch.no_grad():\n",
        "      for p in self.params:\n",
        "        self.reg_step(p)\n",
        "        self.opt_step(p)\n",
        "\n",
        "  def opt_step(self, p): p -= p.grad * self.lr\n",
        "\n",
        "  def ref_step(self, p):\n",
        "    if self.wd != 0: self.p *= 1 - self.lr * self.wd\n",
        "\n",
        "  def zero_grad(self):\n",
        "    for p in self.params: p.grad.data.zero_()"
      ],
      "metadata": {
        "id": "sRCNHgq8U-V3"
      },
      "execution_count": 3,
      "outputs": []
    },
    {
      "cell_type": "code",
      "source": [
        "class Momentum(SGD):\n",
        "  def __init__(self, params, lr, wd=0.1, mom=0.9):\n",
        "    super().__init__(params, lr=lr, wd=wd)\n",
        "    self.mom = mom\n",
        "\n",
        "  def opt_step(self, p):\n",
        "    if not hasattr(p, 'grad_avg'): p.grad_avg = torch.zeros_like(p.grad)\n",
        "    p.grad_avg = p.grad_avg * self.mom + p.grad * (1 - self.mom)\n",
        "    p -= self.lr * p.grad_avg"
      ],
      "metadata": {
        "id": "d-up0js7WW3i"
      },
      "execution_count": 4,
      "outputs": []
    },
    {
      "cell_type": "code",
      "source": [],
      "metadata": {
        "id": "xguM1lD0XX-8"
      },
      "execution_count": null,
      "outputs": []
    }
  ]
}